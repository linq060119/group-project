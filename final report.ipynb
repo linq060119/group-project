{
 "cells": [
  {
   "cell_type": "markdown",
   "id": "317e3993-c781-40f7-9a2e-29c3c12da89c",
   "metadata": {},
   "source": [
    "<span style=\"font-size: 20px\">Game Users' Subscription Prediction Using KNN Classification</span>"
   ]
  },
  {
   "cell_type": "code",
   "execution_count": null,
   "id": "0ba04898-911d-4b88-9709-7197f97efe5f",
   "metadata": {},
   "outputs": [],
   "source": []
  }
 ],
 "metadata": {
  "kernelspec": {
   "display_name": "R",
   "language": "R",
   "name": "ir"
  },
  "language_info": {
   "codemirror_mode": "r",
   "file_extension": ".r",
   "mimetype": "text/x-r-source",
   "name": "R",
   "pygments_lexer": "r",
   "version": "4.3.3"
  }
 },
 "nbformat": 4,
 "nbformat_minor": 5
}
