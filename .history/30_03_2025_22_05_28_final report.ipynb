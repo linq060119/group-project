{
 "cells": [
  {
   "cell_type": "markdown",
   "id": "317e3993-c781-40f7-9a2e-29c3c12da89c",
   "metadata": {},
   "source": [
    "# Game Users' Subscription Prediction Using KNN Classification"
   ]
  },
  {
   "cell_type": "markdown",
   "id": "bdb0f893-3423-4b0d-b0f3-6b8f87bba6e0",
   "metadata": {},
   "source": [
    "## Introduction"
   ]
  },
  {
   "cell_type": "markdown",
   "id": "441b041e-fbcc-4dae-aea6-6a90459c51ed",
   "metadata": {},
   "source": [
    "Background:\n",
    "- A group at UBC"
   ]
  },
  {
   "cell_type": "markdown",
   "id": "c332629d-ebfa-4c7c-a02f-4c97ca440676",
   "metadata": {},
   "source": [
    "- <span style=\"font-size: 15px\"> Questions:</span>\n",
    "The question this project aims"
   ]
  },
  {
   "cell_type": "code",
   "execution_count": null,
   "id": "f4c116e6-798d-460b-afcf-ad3aca73e863",
   "metadata": {},
   "outputs": [],
   "source": [
    "# Load libraries\n",
    "library(repr)\n",
    "library(tidyverse)\n",
    "library(tidymodels)\n",
    "options(repr.matrix.max.rows = 10)\n",
    "\n",
    "# Load dataset\n",
    "players <- read_csv(url(\"https://raw.githubusercontent.com/linq060119/group-project/refs/heads/main/players.csv\"))\n",
    "slice(players, 1:6)\n",
    "dim(players)"
   ]
  },
  {
   "cell_type": "markdown",
   "id": "b5b327cb-38f2-403d-8445-0f214161ffd2",
   "metadata": {},
   "source": [
    "Players dataset includes 196 observations and 7 variables:\n",
    "\n",
    "* `experience` (ordinal: Beginner, Amateur, Regular, Veteran, Pro), indicating skill level. \n",
    "\n",
    "* `subscribe` (boolean: TRUE/FALSE), reflecting subscription status.\n",
    "\n",
    "* `hashedEmail` (unique anonymized identifier).\n",
    "\n",
    "* `played_hours` (float: 0–223.1), includes extreme values 223.1 hours.\n",
    "\n",
    "* `name` (string; possible duplicates).\n",
    "\n",
    "* `gender` (categorical: Male, Female, Non-binary, Prefer not to say, Two-spirited, Other).\n",
    "\n",
    "* `Age` (integer: 8–50; missing values like `NA`), majority of players are teenagers (median = 17).\n",
    "\n",
    "The data is likely collected from user registrations and activity logs.\n",
    "\n",
    "Potential issues: `played_hours` includes extreme values 223.1 hours. `Age` includes outlier \"50\" and `NA`. Logical inconsistencies like some players are labeled as Veteran or Pro with 0 `played_hours`. Too many gender categories.\n",
    "\n",
    "In this project, we are going to use `played_hours` and `Age` as the quantitative predictors."
   ]
  },
  {
   "cell_type": "code",
   "execution_count": null,
   "id": "a509e2f0-5262-4bbe-b432-bb05131158f1",
   "metadata": {},
   "outputs": [],
   "source": []
  }
 ],
 "metadata": {
  "kernelspec": {
   "display_name": "R",
   "language": "R",
   "name": "ir"
  },
  "language_info": {
   "codemirror_mode": "r",
   "file_extension": ".r",
   "mimetype": "text/x-r-source",
   "name": "R",
   "pygments_lexer": "r",
   "version": "4.3.3"
  }
 },
 "nbformat": 4,
 "nbformat_minor": 5
}
