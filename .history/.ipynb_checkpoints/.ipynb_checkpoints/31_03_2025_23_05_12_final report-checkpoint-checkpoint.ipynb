{
 "cells": [
  {
   "cell_type": "markdown",
   "id": "317e3993-c781-40f7-9a2e-29c3c12da89c",
   "metadata": {},
   "source": [
    "# Game Users' Subscription Prediction Using KNN Classification"
   ]
  },
  {
   "cell_type": "markdown",
   "id": "c332629d-ebfa-4c7c-a02f-4c97ca440676",
   "metadata": {},
   "source": [
    "<span style=\"font-size: 15px\">\n",
    "\n",
    "## Introduction\n",
    "    \n",
    "### Background </span>\n",
    "\n",
    "A research group at UBC is hosting a Minecraft server and collecting data about the players and their play sessions to learn more about how people play video games. In their study, they formed two datasets, one with personal information about each participant and another with information on each individual session played. As part of the project they also created a newsletter that players could subscribe to for game-related information. Our group will be working with the dataset containing information about the players to answer a predictive question relating to the newsletter subscription status.\n",
    "\n",
    "<span style=\"font-size: 15px\">\n",
    "    \n",
    "### Question </span> \n",
    "\n",
    "**Can a user's subscription status to a game-related newsletter be predicted based on their age and playtime?**\n"
   ]
  },
  {
   "cell_type": "markdown",
   "id": "8a7ddd3a-239a-4981-a640-ab1a86096ccc",
   "metadata": {},
   "source": [
    "### Dataset Description\n",
    "`player.csv` : The player dataset has 7 columns and 196 rows. Each row represents a player who participated in the study and each column represents a variable used to characterize the participants. Therefore there were 7 variables in this dataset and 196 participants in this study.\n",
    "\n",
    "Focusing on the `player.csv` dataset, the 7 variables are:\n",
    "\n",
    "1. `experience`: a character type variable showing the previous playing experience of a participant (Beginner, Amateur, Regular, Veteran, and Pro)\n",
    "\n",
    "2. `subscribe`: a logical type variable showing the subscription status of a participant (TRUE / FALSE) \n",
    "\n",
    "3. `hashedEmail`: a character type variable showing the unique identifier of each participant\n",
    "\n",
    "4. `hours_played`: a double type variable showing how many hours each player played\n",
    "\n",
    "5. `name`: a character type variable showing the in game name of each participant\n",
    "\n",
    "6. `gender`: a character variable to show the gender of each participant (Male, Female, Non-binary, Prefer not to say, Two-Spirited, Other, and Agender)\n",
    "\n",
    "7. `Age`: a double type variable to show the age of each participant\n"
   ]
  },
  {
   "cell_type": "markdown",
   "id": "18fa4d27-e8bd-4e17-ba27-b9d7d83d9466",
   "metadata": {},
   "source": [
    "## Methods & Results\n",
    "### Step 1: \n",
    "Load all the neccesary libraries to explore the data"
   ]
  },
  {
   "cell_type": "code",
   "execution_count": null,
   "id": "27600bb9-f361-4c2a-b083-80e4dee74150",
   "metadata": {},
   "outputs": [],
   "source": [
    "library(repr)\n",
    "library(tidyverse)\n",
    "library(tidymodels)"
   ]
  },
  {
   "cell_type": "markdown",
   "id": "fdc42015-40e4-4d76-9390-38684bdb7aae",
   "metadata": {},
   "source": [
    "### Step 2: \n",
    "Load dataset that will be studied"
   ]
  },
  {
   "cell_type": "code",
   "execution_count": null,
   "id": "db5e8892-9c56-4eba-9d70-02b1d44c8d40",
   "metadata": {},
   "outputs": [],
   "source": [
    "players <- read_csv(url(\"https://raw.githubusercontent.com/linq060119/group-project/refs/heads/main/players.csv\"))\n",
    "head(players)\n",
    "dim(players)"
   ]
  },
  {
   "cell_type": "markdown",
   "id": "3f23d232-3546-41af-8ec9-9179c226f55e",
   "metadata": {},
   "source": [
    "# Step 3: \n",
    "Tidy the data by using the `filter` function to remove all NA values and removing all unused variables with the `select` function. Lastly use `mutate` to change logical type variable `subscribe` into a factor. "
   ]
  },
  {
   "cell_type": "code",
   "execution_count": null,
   "id": "e0602ecc-a840-47f9-ac98-a24609ec2ae9",
   "metadata": {},
   "outputs": [],
   "source": [
    "players_tidy <- players |>\n",
    "        filter(Age != \"NA\") |>\n",
    "        select(subscribe, played_hours, Age) |>\n",
    "        mutate(subscribe = as.factor(subscribe))\n",
    "players_tidy        "
   ]
  },
  {
   "cell_type": "code",
   "execution_count": null,
   "id": "49e1ffdd-d6aa-480f-ad64-c219c66c8ed5",
   "metadata": {},
   "outputs": [],
   "source": [
    "players_tidy_plot <- players_tidy |>\n",
    "        ggplot(aes(x = played_hours, y = Age, color = subscribe)) +\n",
    "  geom_point(alpha = 0.7) +\n",
    "  labs(\n",
    "    title = \"Played Hours vs. Age\",\n",
    "    x = \"Played Hours (h)\",\n",
    "    y = \"Age (year)\",\n",
    "    color = \"Subscirbe status\"\n",
    "  ) +\n",
    "  theme(text = element_text(size = 20))\n",
    "players_tidy_plot"
   ]
  },
  {
   "cell_type": "code",
   "execution_count": null,
   "id": "019dd7cb-5215-4516-9f47-5f54d3a924f6",
   "metadata": {},
   "outputs": [],
   "source": []
  },
  {
   "cell_type": "code",
   "execution_count": null,
   "id": "fddc38b6-40c2-4289-bbde-90be1a44be80",
   "metadata": {},
   "outputs": [],
   "source": [
    "players_split <- initial_split(players_tidy, prop = 0.75, strata = subscribe)  \n",
    "players_train <- training(players_split)   \n",
    "players_test <- testing(players_split)\n",
    "\n",
    "players_train\n",
    "players_test"
   ]
  },
  {
   "cell_type": "code",
   "execution_count": null,
   "id": "66483568-d35c-4adb-868c-48db4535bd3e",
   "metadata": {},
   "outputs": [],
   "source": [
    "players_recipe <- recipe(subscribe ~ played_hours + Age, data = players_train) |>\n",
    "    step_center(all_predictors()) |>\n",
    "    step_scale(all_predictors())\n",
    "\n",
    "players_vfold <- vfold_cv(players_train, v = 5, strata = \"subscribe\")\n",
    "\n",
    "knn_tune <- nearest_neighbor(weight_func = \"rectangular\", neighbors = tune()) |>\n",
    "  set_engine(\"kknn\") |>          \n",
    "  set_mode(\"classification\") \n",
    "knn_tune\n",
    "\n",
    "k_vals <- tibble(neighbors = seq(from = 1, to = 28, by = 1))\n",
    "                 \n",
    "knn_results <- workflow() |>\n",
    "  add_recipe(players_recipe) |>          \n",
    "  add_model(knn_tune) |>               \n",
    "  tune_grid(resamples = players_vfold, grid = k_vals) |>\n",
    "  collect_metrics()\n",
    "\n",
    "accuracies <- knn_results |> \n",
    "      filter(.metric == \"accuracy\")\n",
    "\n",
    "accuracy_versus_k <- ggplot(accuracies, aes(x = neighbors, y = mean))+\n",
    "      geom_point() +\n",
    "      geom_line() +\n",
    "      labs(x = \"Neighbors\", y = \"Accuracy Estimate\") +\n",
    "      scale_x_continuous(breaks = seq(0, 28, by = 1)) +  \n",
    "      scale_y_continuous(limits = c(0.4, 0.8)) \n",
    "accuracy_versus_k"
   ]
  },
  {
   "cell_type": "code",
   "execution_count": null,
   "id": "12e57529-ac86-4890-868e-a82dfac2ae73",
   "metadata": {},
   "outputs": [],
   "source": [
    "knn_spec <- nearest_neighbor(weight_func = \"rectangular\", neighbors = 10) |>\n",
    "      set_engine(\"kknn\") |>\n",
    "      set_mode(\"classification\")\n",
    "\n",
    "players_fit <- workflow() |>\n",
    "      add_recipe(players_recipe) |>\n",
    "      add_model(knn_spec) |>\n",
    "      fit(data = players_train)\n",
    "\n",
    "players_test_predictions <- predict(players_fit, new_data = players_test) |>\n",
    "      bind_cols(players_test)\n",
    "\n",
    "players_test_predictions"
   ]
  },
  {
   "cell_type": "code",
   "execution_count": null,
   "id": "205dcafa-ff82-44f8-a2a6-f2f05907ffc7",
   "metadata": {},
   "outputs": [],
   "source": [
    "players_prediction_accuracy <- players_test_predictions |>\n",
    "        metrics(truth = subscribe, estimate = .pred_class)\n",
    "# No Answer - remove if you provide an answer\n",
    "players_prediction_accuracy"
   ]
  },
  {
   "cell_type": "code",
   "execution_count": null,
   "id": "31594bc9-d6e3-4472-84ed-685f3c92901b",
   "metadata": {},
   "outputs": [],
   "source": [
    "players_mat <- players_test_predictions |> \n",
    "      conf_mat(truth = subscribe, estimate = .pred_class)\n",
    "# No Answer - remove if you provide an answer\n",
    "players_mat"
   ]
  },
  {
   "cell_type": "code",
   "execution_count": null,
   "id": "ee4786f2-cbba-4cc0-9a65-8afc6718ffcf",
   "metadata": {},
   "outputs": [],
   "source": [
    "players_mat_table <- players_mat\n",
    "\n",
    "TN <- 4  # True Negative\n",
    "FP <- 9 # False Positive\n",
    "FN <- 13 # False Negative\n",
    "TP <- 23  # True Positive\n",
    "\n",
    "accuracy <- (TN + TP) / (TN + FP + FN + TP)\n",
    "precision <- TP / (TP + FP)\n",
    "recall <- TP / (TP + FN)\n",
    "\n",
    "cat(sprintf(\"Accuracy: %.4f\\nPrecision: %.4f\\nRecall: %.4f\",\n",
    "            accuracy, precision, recall))"
   ]
  },
  {
   "cell_type": "code",
   "execution_count": null,
   "id": "aab5bf9b-6e8d-47c8-9590-4f7762df1cdf",
   "metadata": {},
   "outputs": [],
   "source": []
  }
 ],
 "metadata": {
  "kernelspec": {
   "display_name": "R",
   "language": "R",
   "name": "ir"
  },
  "language_info": {
   "codemirror_mode": "r",
   "file_extension": ".r",
   "mimetype": "text/x-r-source",
   "name": "R",
   "pygments_lexer": "r",
   "version": "4.3.3"
  }
 },
 "nbformat": 4,
 "nbformat_minor": 5
}
