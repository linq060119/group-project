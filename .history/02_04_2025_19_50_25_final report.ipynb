{
 "cells": [
  {
   "cell_type": "markdown",
   "id": "317e3993-c781-40f7-9a2e-29c3c12da89c",
   "metadata": {},
   "source": [
    "# Game Users' Subscription Prediction Using KNN Classification"
   ]
  },
  {
   "cell_type": "markdown",
   "id": "bdb0f893-3423-4b0d-b0f3-6b8f87bba6e0",
   "metadata": {},
   "source": [
    "## Introduction"
   ]
  },
  {
   "cell_type": "markdown",
   "id": "c332629d-ebfa-4c7c-a02f-4c97ca440676",
   "metadata": {},
   "source": [
    "<span style=\"font-size: 15px\">\n",
    "\n",
    "### Background: </span>\n",
    "\n",
    "A research group at UBC is hosting a Minecraft server and collecting data about the players and their play sessions to learn more about how people play video games. In their study, they formed two datasets, one with personal information about each participant and another with information on each individual session played. As part of the project they also created a newsletter that players could subscribe to for game-related information. Our group will be working with the dataset containing information about the players to answer a predictive question relating to the newsletter subscription status.\n",
    "\n",
    "<span style=\"font-size: 15px\">\n",
    "    \n",
    "### Questions: </span> \n",
    "\n",
    "**Can a user's subscription status to a game-related newsletter be predicted based on their age and playtime?**\n"
   ]
  },
  {
   "cell_type": "markdown",
   "id": "8a7ddd3a-239a-4981-a640-ab1a86096ccc",
   "metadata": {},
   "source": [
    "### Dataset Description\n",
    "`player.csv` : The player dataset has 7 columns and 196 rows. Each row represents a player who participated in the study and each column represents a variable used to characterize the participants. Therefore there were 7 variables in this dataset and 196 participants in this study.\n",
    "\n",
    "Focusing on the `player.csv` dataset, the 7 variables are:\n",
    "\n",
    "1. `experience`: a character type variable showing the previous playing experience of a participant (Beginner, Amateur, Regular, Veteran, and Pro)\n",
    "\n",
    "2. `subscribe`: a logical type variable showing the subscription status of a participant (TRUE / FALSE)\n",
    "\n",
    "3. `hashedEmail`: a character type variable showing the unique identifier of each participant\n",
    "\n",
    "4. `hours_played`: a double type variable showing how many hours each player played\n",
    "\n",
    "5. `name`: a character type variable showing the in game name of each participant\n",
    "\n",
    "6. `gender`: a character variable to show the gender of each participant (Male, Female, Non-binary, Prefer not to say, Two-Spirited, Other, and Agender)\n",
    "\n",
    "7. `Age`: a double type variable to show the age of each participant"
   ]
  },
  {
   "cell_type": "markdown",
   "id": "eb44d0ad-179c-4a24-ac11-8b63a9d6ef3e",
   "metadata": {},
   "source": [
    "## Methods & Results\n",
    "\n",
    "### Step 1 :\n",
    "Load all necessary libraries to explore data"
   ]
  },
  {
   "cell_type": "code",
   "execution_count": null,
   "id": "5be9aa8d-8862-43f8-9d6c-169f2ca6c3de",
   "metadata": {},
   "outputs": [],
   "source": [
    "#Load libraries\n",
    "library(repr)\n",
    "library(tidyverse)\n",
    "library(tidymodels)"
   ]
  },
  {
   "cell_type": "markdown",
   "id": "3e8e1707-c674-445a-b855-135d12399121",
   "metadata": {},
   "source": [
    "### Step 2: \n",
    "Load dataset that will be studied and their dimensions"
   ]
  },
  {
   "cell_type": "code",
   "execution_count": null,
   "id": "10f8dcae-f76f-46e7-93c1-baf4a9fcc56c",
   "metadata": {},
   "outputs": [],
   "source": [
    "# Load datasets\n",
    "players <- read_csv(url(\"https://raw.githubusercontent.com/linq060119/group-project/refs/heads/main/players.csv\"))\n",
    "head(players)\n",
    "\n",
    "# Outputting the dimensions of the dataset\n",
    "cat(\"\\nThe dataset's dimensions:\", dim(players))"
   ]
  },
  {
   "cell_type": "markdown",
   "id": "4656b52f-f5e5-4e54-9634-fa3124e928ef",
   "metadata": {},
   "source": [
    "### Step 3:\n",
    "Tidy the data by using the `filter` function to remove all NA values and remove all unused variables with the `select` function. Lastly use `mutate` to change logical type variable `subscribe` into a factor to make it easier to work with."
   ]
  },
  {
   "cell_type": "code",
   "execution_count": null,
   "id": "e0602ecc-a840-47f9-ac98-a24609ec2ae9",
   "metadata": {},
   "outputs": [],
   "source": [
    "# This code filters out any missing values in the age column and gets rid of the columns we're not using in our analysis\n",
    "# It also transforms the data type of the *subscribe* variable from logical to factor to make the data easier to work with\n",
    "players_tidy <- players |>\n",
    "        filter(Age != \"NA\") |>\n",
    "        select(subscribe, played_hours, Age) |>\n",
    "        mutate(subscribe = as.factor(subscribe))\n",
    "players_tidy        "
   ]
  },
  {
   "cell_type": "markdown",
   "id": "5942ff6c-0c97-4337-8333-8ada622a95d4",
   "metadata": {},
   "source": [
    "### Step 4:\n",
    "Make a exploratory visualization"
   ]
  },
  {
   "cell_type": "code",
   "execution_count": null,
   "id": "49e1ffdd-d6aa-480f-ad64-c219c66c8ed5",
   "metadata": {},
   "outputs": [],
   "source": [
    "# Now that our data is tidy and ready we can make an exploratory visualization\n",
    "players_tidy_plot <- players_tidy |>\n",
    "    ggplot(aes(x = Age, y = played_hours, color = subscribe)) +\n",
    "    geom_point(alpha = 0.5) +\n",
    "    labs(title = \"Played Hours vs. Age\",\n",
    "        x = \"Age (year)\",\n",
    "        y = \"Played Time (hours)\",\n",
    "        color = \"Subscription status\")+\n",
    "        scale_color_manual(values=c(\"blue\",\"orange\"))+\n",
    "    theme(text = element_text(size = 20)) \n",
    "\n",
    "#Since data from hours_played takes the form of both very large values and very samll values, log scaling must be used\n",
    "players_tidy_plot <- players_tidy |>\n",
    "    ggplot(aes(x = Age, y = played_hours, color = subscribe)) +\n",
    "    geom_point(alpha = 0.5) +\n",
    "    labs(title = \"Played Hours vs. Age\",\n",
    "        x = \"Age (year)\",\n",
    "        y = \"Played Time (hours)\",\n",
    "        color = \"Subscription status\")+\n",
    "        scale_color_manual(values=c(\"blue\",\"orange\"))+\n",
    "    theme(text = element_text(size = 20)) +\n",
    "    scale_y_log10()\n",
    "\n",
    "players_tidy_plot"
   ]
  },
  {
   "cell_type": "markdown",
   "id": "b1eb3c95-f97e-443d-a9f1-f9e55cd4699c",
   "metadata": {},
   "source": [
    "*Figure 1*"
   ]
  },
  {
   "cell_type": "code",
   "execution_count": null,
   "id": "019dd7cb-5215-4516-9f47-5f54d3a924f6",
   "metadata": {},
   "outputs": [],
   "source": [
    "# The next step is calculating our summary statistics\n",
    "summary <- players_tidy |>\n",
    "    summarize(mean_age=mean(Age),\n",
    "              mean_played_hours=mean(played_hours),\n",
    "              range_age=max(Age)-min(Age),\n",
    "              range_played_hours=max(played_hours)-min(played_hours),\n",
    "              subscribe_rate=nrow(filter(players_tidy,subscribe==\"TRUE\"))/nrow(players_tidy))\n",
    "summary"
   ]
  },
  {
   "cell_type": "markdown",
   "id": "800dd51f-cd60-44f9-aac8-b2a9a4084638",
   "metadata": {},
   "source": [
    "*Figure 2*"
   ]
  },
  {
   "cell_type": "code",
   "execution_count": null,
   "id": "fddc38b6-40c2-4289-bbde-90be1a44be80",
   "metadata": {},
   "outputs": [],
   "source": [
    "# Now that the preliminary work is done, we get into the bulk of our data analysis\n",
    "\n",
    "# The first and very important step is splitting our data into a training set and a testing set\n",
    "set.seed(2007)\n",
    "players_split <- initial_split(players_tidy, prop = 0.75, strata = subscribe)  \n",
    "players_train <- training(players_split)   \n",
    "players_test <- testing(players_split)"
   ]
  },
  {
   "cell_type": "code",
   "execution_count": null,
   "id": "66483568-d35c-4adb-868c-48db4535bd3e",
   "metadata": {},
   "outputs": [],
   "source": [
    "# Now that we have our training data we can make our recipe and start the process of choosing how many neighbors to use in our model\n",
    "\n",
    "players_recipe <- recipe(subscribe ~ played_hours + Age, data = players_train) |>\n",
    "    step_center(all_predictors()) |>\n",
    "    step_scale(all_predictors())\n",
    "\n",
    "players_vfold <- vfold_cv(players_train, v = 5, strata = \"subscribe\")\n",
    "\n",
    "knn_tune <- nearest_neighbor(weight_func = \"rectangular\", neighbors = tune()) |>\n",
    "  set_engine(\"kknn\") |>          \n",
    "  set_mode(\"classification\") \n",
    "knn_tune\n",
    "\n",
    "k_vals <- tibble(neighbors = seq(from = 1, to = 28, by = 1))\n",
    "                 \n",
    "knn_results <- workflow() |>\n",
    "  add_recipe(players_recipe) |>          \n",
    "  add_model(knn_tune) |>               \n",
    "  tune_grid(resamples = players_vfold, grid = k_vals) |>\n",
    "  collect_metrics()\n",
    "\n",
    "accuracies <- knn_results |> \n",
    "      filter(.metric == \"accuracy\")\n",
    "\n",
    "accuracy_versus_k <- ggplot(accuracies, aes(x = neighbors, y = mean))+\n",
    "      geom_point() +\n",
    "      geom_line() +\n",
    "      labs(x = \"Neighbors\", y = \"Accuracy Estimate\") +\n",
    "      scale_x_continuous(breaks = seq(0, 28, by = 1)) +  \n",
    "      scale_y_continuous(limits = c(0.4, 0.8)) \n",
    "accuracy_versus_k"
   ]
  },
  {
   "cell_type": "markdown",
   "id": "b60390b2-b24a-4196-a008-9903eb90249e",
   "metadata": {},
   "source": [
    "*Figure 3*"
   ]
  },
  {
   "cell_type": "code",
   "execution_count": null,
   "id": "12e57529-ac86-4890-868e-a82dfac2ae73",
   "metadata": {},
   "outputs": [],
   "source": [
    "# From the analysis it appears that k = 13 is the best choice, which means we can proceed with building our model\n",
    "\n",
    "knn_spec <- nearest_neighbor(weight_func = \"rectangular\", neighbors = 13) |>\n",
    "      set_engine(\"kknn\") |>\n",
    "      set_mode(\"classification\")\n",
    "\n",
    "players_fit <- workflow() |>\n",
    "      add_recipe(players_recipe) |>\n",
    "      add_model(knn_spec) |>\n",
    "      fit(data = players_train)\n",
    "\n",
    "# Now that we have our model, it's finally time to use it on our testing data\n",
    "\n",
    "players_test_predictions <- predict(players_fit, new_data = players_test) |>\n",
    "      bind_cols(players_test)"
   ]
  },
  {
   "cell_type": "code",
   "execution_count": null,
   "id": "205dcafa-ff82-44f8-a2a6-f2f05907ffc7",
   "metadata": {},
   "outputs": [],
   "source": [
    "# With testing done, it's time to see how our model did. The following code blocks show the model's metrics\n",
    "\n",
    "players_prediction_accuracy <- players_test_predictions |>\n",
    "        metrics(truth = subscribe, estimate = .pred_class)\n",
    "# No Answer - remove if you provide an answer\n",
    "players_prediction_accuracy"
   ]
  },
  {
   "cell_type": "code",
   "execution_count": null,
   "id": "31594bc9-d6e3-4472-84ed-685f3c92901b",
   "metadata": {},
   "outputs": [],
   "source": [
    "players_mat <- players_test_predictions |> \n",
    "      conf_mat(truth = subscribe, estimate = .pred_class)\n",
    "# No Answer - remove if you provide an answer\n",
    "players_mat"
   ]
  },
  {
   "cell_type": "code",
   "execution_count": null,
   "id": "ee4786f2-cbba-4cc0-9a65-8afc6718ffcf",
   "metadata": {},
   "outputs": [],
   "source": [
    "library(yardstick)\n",
    "players_tibble <- tidy(players_mat)|>\n",
    "    mutate(name=recode(name,\n",
    "                       \"cell_1_1\"=\"TN\",\n",
    "                       \"cell_2_1\"=\"FP\",\n",
    "                       \"cell_1_2\"=\"FN\",\n",
    "                       \"cell_2_2\"=\"TP\")) \n",
    "\n",
    "TN <- players_tibble |> filter(name==\"TN\")|>select(value)|>pull()  # True Negative\n",
    "FP <- players_tibble |> filter(name==\"FP\")|>select(value)|>pull() # False Positive\n",
    "FN <- players_tibble |> filter(name==\"FN\")|>select(value)|>pull() # False Negative\n",
    "TP <- players_tibble |> filter(name==\"TP\")|>select(value)|>pull()  # True Positive\n",
    "accuracy <- (TN + TP) / (TN + FP + FN + TP)\n",
    "precision <- TP / (TP + FP)\n",
    "recall <- TP / (TP + FN)\n",
    "\n",
    "cat(sprintf(\"Accuracy: %.4f\\nPrecision: %.4f\\nRecall: %.4f\",\n",
    "            accuracy, precision, recall))"
   ]
  },
  {
   "cell_type": "markdown",
   "id": "f7fecafc-8c2e-4050-a9d9-959606849603",
   "metadata": {},
   "source": [
    "*Figure 4*"
   ]
  },
  {
   "cell_type": "markdown",
   "id": "02774990-4e08-44e4-bab0-3c404dad314d",
   "metadata": {},
   "source": [
    "## Methods and Results"
   ]
  },
  {
   "cell_type": "markdown",
   "id": "a9559475-0ee3-4604-812c-b83891bd1a4a",
   "metadata": {},
   "source": [
    "**Methods:**\n",
    "\n",
    "Our first step after reading in the dataset was to get the data into the proper format for anaylsis. This included removing any missing values from the age column, selecting only the columns needed for the analysis, and changing the data type of the subscribe column to a factor to make it easier to work with. \n",
    "\n",
    "After that, we made our exploratory visualization (Fig. 1), plotting age against played hours (our predictors) and coloring by subscription status (our predicted class). Then we calculated all of our summary statistics (Fig. 2).  \n",
    "\n",
    "Once all the preliminary steps were complete, we then moved into the data analysis, starting by splitting the data into a testing set and a training set.\n",
    "\n",
    "Next we made our recipe, then used vfold to split the training data into 5 folds to use for cross validation to tune our k-values. After making the model and tuning our k-values, we collected and plotted the results (Fig. 3).\n",
    "\n",
    "Using the results from tuning our k values, we chose k=13 and used that in our final model. Then we fitted our final model and used it on the test data.\n",
    "\n",
    "Our final step was to output the metrics for our model (Fig. 4). \n",
    "\n",
    "**Results:**"
   ]
  },
  {
   "cell_type": "code",
   "execution_count": null,
   "id": "806e33f1-d9e3-434b-aa3f-a668c629361a",
   "metadata": {},
   "outputs": [],
   "source": []
  }
 ],
 "metadata": {
  "kernelspec": {
   "display_name": "R",
   "language": "R",
   "name": "ir"
  },
  "language_info": {
   "codemirror_mode": "r",
   "file_extension": ".r",
   "mimetype": "text/x-r-source",
   "name": "R",
   "pygments_lexer": "r",
   "version": "4.3.3"
  }
 },
 "nbformat": 4,
 "nbformat_minor": 5
}
